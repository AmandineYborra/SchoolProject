{
 "cells": [
  {
   "cell_type": "markdown",
   "metadata": {},
   "source": [
    "## Machine Learning Model Building Pipeline: Feature Selection"
   ]
  },
  {
   "cell_type": "code",
   "execution_count": 1,
   "metadata": {},
   "outputs": [],
   "source": [
    "# import des librairies\n",
    "import pandas as pd\n",
    "import numpy as np\n",
    "import matplotlib.pyplot as plt\n",
    "%matplotlib inline\n",
    "from sklearn.linear_model import Lasso\n",
    "from sklearn.feature_selection import SelectFromModel\n",
    "pd.pandas.set_option('display.max_columns', None)"
   ]
  },
  {
   "cell_type": "code",
   "execution_count": 2,
   "metadata": {},
   "outputs": [
    {
     "data": {
      "text/html": [
       "<div>\n",
       "<style scoped>\n",
       "    .dataframe tbody tr th:only-of-type {\n",
       "        vertical-align: middle;\n",
       "    }\n",
       "\n",
       "    .dataframe tbody tr th {\n",
       "        vertical-align: top;\n",
       "    }\n",
       "\n",
       "    .dataframe thead th {\n",
       "        text-align: right;\n",
       "    }\n",
       "</style>\n",
       "<table border=\"1\" class=\"dataframe\">\n",
       "  <thead>\n",
       "    <tr style=\"text-align: right;\">\n",
       "      <th></th>\n",
       "      <th>id_mutation</th>\n",
       "      <th>id_parcelle</th>\n",
       "      <th>id_bien</th>\n",
       "      <th>date_mutation</th>\n",
       "      <th>adresse_nom_voie</th>\n",
       "      <th>nom_commune</th>\n",
       "      <th>valeur_fonciere</th>\n",
       "      <th>nature_mutation</th>\n",
       "      <th>code_departement</th>\n",
       "      <th>nombre_lots</th>\n",
       "      <th>code_type_local</th>\n",
       "      <th>type_local</th>\n",
       "      <th>surface_reelle_bati</th>\n",
       "      <th>nombre_pieces_principales</th>\n",
       "      <th>surface_terrain</th>\n",
       "      <th>longitude</th>\n",
       "      <th>latitude</th>\n",
       "      <th>code_type_local_na</th>\n",
       "      <th>surface_reelle_bati_na</th>\n",
       "      <th>nombre_pieces_principales_na</th>\n",
       "      <th>surface_terrain_na</th>\n",
       "      <th>longitude_na</th>\n",
       "      <th>latitude_na</th>\n",
       "    </tr>\n",
       "  </thead>\n",
       "  <tbody>\n",
       "    <tr>\n",
       "      <th>0</th>\n",
       "      <td>2017-1381514</td>\n",
       "      <td>95018000AV0057</td>\n",
       "      <td>95018000AV0057-95</td>\n",
       "      <td>2017-05-16</td>\n",
       "      <td>RUE DE ST QUENTIN</td>\n",
       "      <td>Argenteuil</td>\n",
       "      <td>12.354493</td>\n",
       "      <td>0.666667</td>\n",
       "      <td>0.950</td>\n",
       "      <td>0.00000</td>\n",
       "      <td>0.000000</td>\n",
       "      <td>1.00</td>\n",
       "      <td>0.331789</td>\n",
       "      <td>0.033333</td>\n",
       "      <td>0.317739</td>\n",
       "      <td>0.808165</td>\n",
       "      <td>0.984716</td>\n",
       "      <td>0.0</td>\n",
       "      <td>0.0</td>\n",
       "      <td>0.0</td>\n",
       "      <td>0.0</td>\n",
       "      <td>0.0</td>\n",
       "      <td>0.0</td>\n",
       "    </tr>\n",
       "    <tr>\n",
       "      <th>1</th>\n",
       "      <td>2017-131542</td>\n",
       "      <td>132098460A0288</td>\n",
       "      <td>132098460A0288-13</td>\n",
       "      <td>2017-04-07</td>\n",
       "      <td>RUE ANTOINE FORTUNE MARION</td>\n",
       "      <td>Marseille 9e Arrondissement</td>\n",
       "      <td>13.075272</td>\n",
       "      <td>0.666667</td>\n",
       "      <td>0.875</td>\n",
       "      <td>0.00000</td>\n",
       "      <td>0.000000</td>\n",
       "      <td>1.00</td>\n",
       "      <td>0.381939</td>\n",
       "      <td>0.055556</td>\n",
       "      <td>0.405742</td>\n",
       "      <td>0.860498</td>\n",
       "      <td>0.940072</td>\n",
       "      <td>0.0</td>\n",
       "      <td>0.0</td>\n",
       "      <td>0.0</td>\n",
       "      <td>0.0</td>\n",
       "      <td>0.0</td>\n",
       "      <td>0.0</td>\n",
       "    </tr>\n",
       "    <tr>\n",
       "      <th>2</th>\n",
       "      <td>2017-1162525</td>\n",
       "      <td>83038000AB0022</td>\n",
       "      <td>83038000AB0022-83</td>\n",
       "      <td>2017-05-22</td>\n",
       "      <td>SAINTE ANNE</td>\n",
       "      <td>Châteaudouble</td>\n",
       "      <td>11.652687</td>\n",
       "      <td>0.666667</td>\n",
       "      <td>0.850</td>\n",
       "      <td>0.00000</td>\n",
       "      <td>0.000000</td>\n",
       "      <td>0.00</td>\n",
       "      <td>0.349591</td>\n",
       "      <td>0.044444</td>\n",
       "      <td>0.497230</td>\n",
       "      <td>0.871099</td>\n",
       "      <td>0.943037</td>\n",
       "      <td>1.0</td>\n",
       "      <td>1.0</td>\n",
       "      <td>1.0</td>\n",
       "      <td>0.0</td>\n",
       "      <td>0.0</td>\n",
       "      <td>0.0</td>\n",
       "    </tr>\n",
       "    <tr>\n",
       "      <th>3</th>\n",
       "      <td>2019-173403</td>\n",
       "      <td>44109000NY0325</td>\n",
       "      <td>44109000NY0325-44</td>\n",
       "      <td>2019-03-29</td>\n",
       "      <td>RUE FELIX LEMOINE</td>\n",
       "      <td>Nantes</td>\n",
       "      <td>9.510445</td>\n",
       "      <td>0.666667</td>\n",
       "      <td>0.575</td>\n",
       "      <td>0.00303</td>\n",
       "      <td>0.666667</td>\n",
       "      <td>0.25</td>\n",
       "      <td>0.349591</td>\n",
       "      <td>0.000000</td>\n",
       "      <td>0.416154</td>\n",
       "      <td>NaN</td>\n",
       "      <td>0.971868</td>\n",
       "      <td>0.0</td>\n",
       "      <td>1.0</td>\n",
       "      <td>0.0</td>\n",
       "      <td>1.0</td>\n",
       "      <td>0.0</td>\n",
       "      <td>0.0</td>\n",
       "    </tr>\n",
       "    <tr>\n",
       "      <th>4</th>\n",
       "      <td>2017-242501</td>\n",
       "      <td>22011000AB0237</td>\n",
       "      <td>22011000AB0237-22</td>\n",
       "      <td>2017-04-27</td>\n",
       "      <td>LE BOURG</td>\n",
       "      <td>Boqueho</td>\n",
       "      <td>8.006368</td>\n",
       "      <td>0.666667</td>\n",
       "      <td>0.125</td>\n",
       "      <td>0.00000</td>\n",
       "      <td>0.000000</td>\n",
       "      <td>0.00</td>\n",
       "      <td>0.349591</td>\n",
       "      <td>0.044444</td>\n",
       "      <td>0.227757</td>\n",
       "      <td>NaN</td>\n",
       "      <td>0.981227</td>\n",
       "      <td>1.0</td>\n",
       "      <td>1.0</td>\n",
       "      <td>1.0</td>\n",
       "      <td>0.0</td>\n",
       "      <td>0.0</td>\n",
       "      <td>0.0</td>\n",
       "    </tr>\n",
       "  </tbody>\n",
       "</table>\n",
       "</div>"
      ],
      "text/plain": [
       "    id_mutation     id_parcelle            id_bien date_mutation  \\\n",
       "0  2017-1381514  95018000AV0057  95018000AV0057-95    2017-05-16   \n",
       "1   2017-131542  132098460A0288  132098460A0288-13    2017-04-07   \n",
       "2  2017-1162525  83038000AB0022  83038000AB0022-83    2017-05-22   \n",
       "3   2019-173403  44109000NY0325  44109000NY0325-44    2019-03-29   \n",
       "4   2017-242501  22011000AB0237  22011000AB0237-22    2017-04-27   \n",
       "\n",
       "             adresse_nom_voie                  nom_commune  valeur_fonciere  \\\n",
       "0           RUE DE ST QUENTIN                   Argenteuil        12.354493   \n",
       "1  RUE ANTOINE FORTUNE MARION  Marseille 9e Arrondissement        13.075272   \n",
       "2                 SAINTE ANNE                Châteaudouble        11.652687   \n",
       "3           RUE FELIX LEMOINE                       Nantes         9.510445   \n",
       "4                    LE BOURG                      Boqueho         8.006368   \n",
       "\n",
       "   nature_mutation  code_departement  nombre_lots  code_type_local  \\\n",
       "0         0.666667             0.950      0.00000         0.000000   \n",
       "1         0.666667             0.875      0.00000         0.000000   \n",
       "2         0.666667             0.850      0.00000         0.000000   \n",
       "3         0.666667             0.575      0.00303         0.666667   \n",
       "4         0.666667             0.125      0.00000         0.000000   \n",
       "\n",
       "   type_local  surface_reelle_bati  nombre_pieces_principales  \\\n",
       "0        1.00             0.331789                   0.033333   \n",
       "1        1.00             0.381939                   0.055556   \n",
       "2        0.00             0.349591                   0.044444   \n",
       "3        0.25             0.349591                   0.000000   \n",
       "4        0.00             0.349591                   0.044444   \n",
       "\n",
       "   surface_terrain  longitude  latitude  code_type_local_na  \\\n",
       "0         0.317739   0.808165  0.984716                 0.0   \n",
       "1         0.405742   0.860498  0.940072                 0.0   \n",
       "2         0.497230   0.871099  0.943037                 1.0   \n",
       "3         0.416154        NaN  0.971868                 0.0   \n",
       "4         0.227757        NaN  0.981227                 1.0   \n",
       "\n",
       "   surface_reelle_bati_na  nombre_pieces_principales_na  surface_terrain_na  \\\n",
       "0                     0.0                           0.0                 0.0   \n",
       "1                     0.0                           0.0                 0.0   \n",
       "2                     1.0                           1.0                 0.0   \n",
       "3                     1.0                           0.0                 1.0   \n",
       "4                     1.0                           1.0                 0.0   \n",
       "\n",
       "   longitude_na  latitude_na  \n",
       "0           0.0          0.0  \n",
       "1           0.0          0.0  \n",
       "2           0.0          0.0  \n",
       "3           0.0          0.0  \n",
       "4           0.0          0.0  "
      ]
     },
     "execution_count": 2,
     "metadata": {},
     "output_type": "execute_result"
    }
   ],
   "source": [
    "# load dataset\n",
    "X_train = pd.read_csv('Data/xtrain.csv')\n",
    "X_test = pd.read_csv('Data/xtest.csv')\n",
    "\n",
    "X_train.head()"
   ]
  },
  {
   "cell_type": "code",
   "execution_count": 3,
   "metadata": {},
   "outputs": [],
   "source": [
    "# capture the target\n",
    "y_train = X_train['valeur_fonciere']\n",
    "y_test = X_test['valeur_fonciere']\n",
    "\n",
    "# drop unnecessary variables from our training and testing sets\n",
    "X_train.drop(['id_mutation', 'id_parcelle', 'id_bien', 'date_mutation', 'adresse_nom_voie', 'nom_commune', 'valeur_fonciere', 'longitude', 'latitude', 'code_type_local_na', 'surface_reelle_bati_na', 'nombre_pieces_principales_na', 'surface_terrain_na', 'longitude_na', 'latitude_na'], axis=1, inplace=True)\n",
    "X_test.drop(['id_mutation', 'id_parcelle', 'id_bien', 'date_mutation', 'adresse_nom_voie', 'nom_commune', 'valeur_fonciere', 'longitude', 'latitude', 'code_type_local_na', 'surface_reelle_bati_na', 'nombre_pieces_principales_na', 'surface_terrain_na', 'longitude_na', 'latitude_na'], axis=1, inplace=True)"
   ]
  },
  {
   "cell_type": "markdown",
   "metadata": {},
   "source": [
    "### Feature Selection\n",
    "\n",
    "Let's go ahead and select a subset of the most predictive features. There is an element of randomness in the Lasso regression, so remember to set the seed."
   ]
  },
  {
   "cell_type": "code",
   "execution_count": 4,
   "metadata": {},
   "outputs": [
    {
     "data": {
      "text/plain": [
       "SelectFromModel(estimator=Lasso(alpha=0.005, random_state=123))"
      ]
     },
     "execution_count": 4,
     "metadata": {},
     "output_type": "execute_result"
    }
   ],
   "source": [
    "sel_ = SelectFromModel(Lasso(alpha=0.005, random_state=123)) # remember to set the seed, the random state in this function\n",
    "sel_.fit(X_train, y_train)"
   ]
  },
  {
   "cell_type": "code",
   "execution_count": 5,
   "metadata": {},
   "outputs": [
    {
     "data": {
      "text/plain": [
       "array([ True,  True, False,  True,  True,  True, False,  True])"
      ]
     },
     "execution_count": 5,
     "metadata": {},
     "output_type": "execute_result"
    }
   ],
   "source": [
    "# this command let's us visualise those features that were kept.\n",
    "# Kept features have a True indicator\n",
    "sel_.get_support()"
   ]
  },
  {
   "cell_type": "code",
   "execution_count": 6,
   "metadata": {},
   "outputs": [
    {
     "name": "stdout",
     "output_type": "stream",
     "text": [
      "total features: 8\n",
      "selected features: 6\n",
      "features with coefficients shrank to zero: 2\n"
     ]
    }
   ],
   "source": [
    "# let's print the number of total and selected features\n",
    "\n",
    "# this is how we can make a list of the selected features\n",
    "selected_feat = X_train.columns[(sel_.get_support())]\n",
    "\n",
    "# let's print some stats\n",
    "print('total features: {}'.format((X_train.shape[1])))\n",
    "print('selected features: {}'.format(len(selected_feat)))\n",
    "print('features with coefficients shrank to zero: {}'.format(\n",
    "    np.sum(sel_.estimator_.coef_ == 0)))"
   ]
  },
  {
   "cell_type": "code",
   "execution_count": 7,
   "metadata": {},
   "outputs": [
    {
     "data": {
      "text/plain": [
       "Index(['nature_mutation', 'code_departement', 'code_type_local', 'type_local',\n",
       "       'surface_reelle_bati', 'surface_terrain'],\n",
       "      dtype='object')"
      ]
     },
     "execution_count": 7,
     "metadata": {},
     "output_type": "execute_result"
    }
   ],
   "source": [
    "# print the selected features\n",
    "selected_feat"
   ]
  },
  {
   "cell_type": "markdown",
   "metadata": {},
   "source": [
    "### Identify the selected variables"
   ]
  },
  {
   "cell_type": "code",
   "execution_count": 8,
   "metadata": {},
   "outputs": [
    {
     "data": {
      "text/plain": [
       "Index(['nature_mutation', 'code_departement', 'code_type_local', 'type_local',\n",
       "       'surface_reelle_bati', 'surface_terrain'],\n",
       "      dtype='object')"
      ]
     },
     "execution_count": 8,
     "metadata": {},
     "output_type": "execute_result"
    }
   ],
   "source": [
    "# this is an alternative way of identifying the selected features \n",
    "# based on the non-zero regularisation coefficients:\n",
    "selected_feats = X_train.columns[(sel_.estimator_.coef_ != 0).ravel().tolist()]\n",
    "selected_feats"
   ]
  },
  {
   "cell_type": "code",
   "execution_count": 9,
   "metadata": {},
   "outputs": [],
   "source": [
    "# now we save the selected list of features\n",
    "pd.Series(selected_feats).to_csv('selected_features.csv', index=False)"
   ]
  },
  {
   "cell_type": "markdown",
   "metadata": {
    "collapsed": true
   },
   "source": [
    "That is all for this notebook. In the next video, we will go ahead and build the final model using the selected features. See you then!"
   ]
  }
 ],
 "metadata": {
  "kernelspec": {
   "display_name": "Python 3",
   "language": "python",
   "name": "python3"
  },
  "language_info": {
   "codemirror_mode": {
    "name": "ipython",
    "version": 3
   },
   "file_extension": ".py",
   "mimetype": "text/x-python",
   "name": "python",
   "nbconvert_exporter": "python",
   "pygments_lexer": "ipython3",
   "version": "3.6.7"
  },
  "toc": {
   "nav_menu": {},
   "number_sections": true,
   "sideBar": true,
   "skip_h1_title": false,
   "toc_cell": false,
   "toc_position": {
    "height": "583px",
    "left": "0px",
    "right": "1324px",
    "top": "107px",
    "width": "212px"
   },
   "toc_section_display": "block",
   "toc_window_display": true
  }
 },
 "nbformat": 4,
 "nbformat_minor": 2
}
