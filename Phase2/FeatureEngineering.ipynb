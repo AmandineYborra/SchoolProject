{
 "cells": [
  {
   "cell_type": "markdown",
   "metadata": {},
   "source": [
    "# Feature Engineering"
   ]
  },
  {
   "cell_type": "markdown",
   "metadata": {},
   "source": [
    "### Import des librairies"
   ]
  },
  {
   "cell_type": "code",
   "execution_count": 1,
   "metadata": {},
   "outputs": [],
   "source": [
    "import pandas as pd\n",
    "import numpy as np\n",
    "import matplotlib.pyplot as plt\n",
    "%matplotlib inline\n",
    "from sklearn.model_selection import train_test_split\n",
    "from sklearn.preprocessing import MinMaxScaler\n",
    "pd.pandas.set_option('display.max_columns', None)"
   ]
  },
  {
   "cell_type": "markdown",
   "metadata": {},
   "source": [
    "### Import du dataset"
   ]
  },
  {
   "cell_type": "code",
   "execution_count": 2,
   "metadata": {},
   "outputs": [
    {
     "name": "stdout",
     "output_type": "stream",
     "text": [
      "(2224142, 17)\n"
     ]
    },
    {
     "data": {
      "text/html": [
       "<div>\n",
       "<style scoped>\n",
       "    .dataframe tbody tr th:only-of-type {\n",
       "        vertical-align: middle;\n",
       "    }\n",
       "\n",
       "    .dataframe tbody tr th {\n",
       "        vertical-align: top;\n",
       "    }\n",
       "\n",
       "    .dataframe thead th {\n",
       "        text-align: right;\n",
       "    }\n",
       "</style>\n",
       "<table border=\"1\" class=\"dataframe\">\n",
       "  <thead>\n",
       "    <tr style=\"text-align: right;\">\n",
       "      <th></th>\n",
       "      <th>id_mutation</th>\n",
       "      <th>date_mutation</th>\n",
       "      <th>nature_mutation</th>\n",
       "      <th>valeur_fonciere</th>\n",
       "      <th>adresse_nom_voie</th>\n",
       "      <th>nom_commune</th>\n",
       "      <th>code_departement</th>\n",
       "      <th>id_parcelle</th>\n",
       "      <th>nombre_lots</th>\n",
       "      <th>code_type_local</th>\n",
       "      <th>type_local</th>\n",
       "      <th>surface_reelle_bati</th>\n",
       "      <th>nombre_pieces_principales</th>\n",
       "      <th>surface_terrain</th>\n",
       "      <th>longitude</th>\n",
       "      <th>latitude</th>\n",
       "      <th>id_bien</th>\n",
       "    </tr>\n",
       "  </thead>\n",
       "  <tbody>\n",
       "    <tr>\n",
       "      <th>0</th>\n",
       "      <td>2017-2</td>\n",
       "      <td>2017-01-05</td>\n",
       "      <td>Vente</td>\n",
       "      <td>115000.0</td>\n",
       "      <td>LES VAVRES</td>\n",
       "      <td>Péronnas</td>\n",
       "      <td>01</td>\n",
       "      <td>01289000AR0388</td>\n",
       "      <td>0</td>\n",
       "      <td>NaN</td>\n",
       "      <td>NaN</td>\n",
       "      <td>NaN</td>\n",
       "      <td>NaN</td>\n",
       "      <td>788.0</td>\n",
       "      <td>5.203419</td>\n",
       "      <td>46.176087</td>\n",
       "      <td>01289000AR0388-01</td>\n",
       "    </tr>\n",
       "    <tr>\n",
       "      <th>1</th>\n",
       "      <td>2017-3</td>\n",
       "      <td>2017-01-06</td>\n",
       "      <td>Vente</td>\n",
       "      <td>1.0</td>\n",
       "      <td>LA POIPE</td>\n",
       "      <td>Saint-Cyr-sur-Menthon</td>\n",
       "      <td>01</td>\n",
       "      <td>01343000ZM0197</td>\n",
       "      <td>0</td>\n",
       "      <td>NaN</td>\n",
       "      <td>NaN</td>\n",
       "      <td>NaN</td>\n",
       "      <td>NaN</td>\n",
       "      <td>42.0</td>\n",
       "      <td>4.975828</td>\n",
       "      <td>46.277320</td>\n",
       "      <td>01343000ZM0197-01</td>\n",
       "    </tr>\n",
       "    <tr>\n",
       "      <th>2</th>\n",
       "      <td>2017-4</td>\n",
       "      <td>2017-01-09</td>\n",
       "      <td>Vente</td>\n",
       "      <td>1.0</td>\n",
       "      <td>MONTGRIMOUX CENTRE</td>\n",
       "      <td>Feillens</td>\n",
       "      <td>01</td>\n",
       "      <td>01159000AH0996</td>\n",
       "      <td>0</td>\n",
       "      <td>NaN</td>\n",
       "      <td>NaN</td>\n",
       "      <td>NaN</td>\n",
       "      <td>NaN</td>\n",
       "      <td>50.0</td>\n",
       "      <td>4.904049</td>\n",
       "      <td>46.337128</td>\n",
       "      <td>01159000AH0996-01</td>\n",
       "    </tr>\n",
       "    <tr>\n",
       "      <th>3</th>\n",
       "      <td>2017-5</td>\n",
       "      <td>2017-01-03</td>\n",
       "      <td>Vente</td>\n",
       "      <td>258000.0</td>\n",
       "      <td>IMP DES PINSONS</td>\n",
       "      <td>Saint-Denis-lès-Bourg</td>\n",
       "      <td>01</td>\n",
       "      <td>01344000AK0042</td>\n",
       "      <td>0</td>\n",
       "      <td>2.0</td>\n",
       "      <td>Appartement</td>\n",
       "      <td>120.0</td>\n",
       "      <td>5.0</td>\n",
       "      <td>655.0</td>\n",
       "      <td>5.205776</td>\n",
       "      <td>46.197455</td>\n",
       "      <td>01344000AK0042-01</td>\n",
       "    </tr>\n",
       "    <tr>\n",
       "      <th>4</th>\n",
       "      <td>2017-6</td>\n",
       "      <td>2017-01-05</td>\n",
       "      <td>Vente</td>\n",
       "      <td>175050.0</td>\n",
       "      <td>SAINT MICHEL</td>\n",
       "      <td>Val-Revermont</td>\n",
       "      <td>01</td>\n",
       "      <td>01426000ZI0195</td>\n",
       "      <td>0</td>\n",
       "      <td>1.0</td>\n",
       "      <td>Maison</td>\n",
       "      <td>99.0</td>\n",
       "      <td>5.0</td>\n",
       "      <td>471.0</td>\n",
       "      <td>5.361589</td>\n",
       "      <td>46.274684</td>\n",
       "      <td>01426000ZI0195-01</td>\n",
       "    </tr>\n",
       "  </tbody>\n",
       "</table>\n",
       "</div>"
      ],
      "text/plain": [
       "  id_mutation date_mutation nature_mutation  valeur_fonciere  \\\n",
       "0      2017-2    2017-01-05           Vente         115000.0   \n",
       "1      2017-3    2017-01-06           Vente              1.0   \n",
       "2      2017-4    2017-01-09           Vente              1.0   \n",
       "3      2017-5    2017-01-03           Vente         258000.0   \n",
       "4      2017-6    2017-01-05           Vente         175050.0   \n",
       "\n",
       "     adresse_nom_voie            nom_commune code_departement     id_parcelle  \\\n",
       "0          LES VAVRES               Péronnas               01  01289000AR0388   \n",
       "1            LA POIPE  Saint-Cyr-sur-Menthon               01  01343000ZM0197   \n",
       "2  MONTGRIMOUX CENTRE               Feillens               01  01159000AH0996   \n",
       "3     IMP DES PINSONS  Saint-Denis-lès-Bourg               01  01344000AK0042   \n",
       "4        SAINT MICHEL          Val-Revermont               01  01426000ZI0195   \n",
       "\n",
       "   nombre_lots  code_type_local   type_local  surface_reelle_bati  \\\n",
       "0            0              NaN          NaN                  NaN   \n",
       "1            0              NaN          NaN                  NaN   \n",
       "2            0              NaN          NaN                  NaN   \n",
       "3            0              2.0  Appartement                120.0   \n",
       "4            0              1.0       Maison                 99.0   \n",
       "\n",
       "   nombre_pieces_principales  surface_terrain  longitude   latitude  \\\n",
       "0                        NaN            788.0   5.203419  46.176087   \n",
       "1                        NaN             42.0   4.975828  46.277320   \n",
       "2                        NaN             50.0   4.904049  46.337128   \n",
       "3                        5.0            655.0   5.205776  46.197455   \n",
       "4                        5.0            471.0   5.361589  46.274684   \n",
       "\n",
       "             id_bien  \n",
       "0  01289000AR0388-01  \n",
       "1  01343000ZM0197-01  \n",
       "2  01159000AH0996-01  \n",
       "3  01344000AK0042-01  \n",
       "4  01426000ZI0195-01  "
      ]
     },
     "execution_count": 2,
     "metadata": {},
     "output_type": "execute_result"
    }
   ],
   "source": [
    "data = pd.read_csv('Data/dvf.csv', low_memory=False)\n",
    "print(data.shape)\n",
    "data.head()"
   ]
  },
  {
   "cell_type": "markdown",
   "metadata": {},
   "source": [
    "### Séparation du dataset en train et test"
   ]
  },
  {
   "cell_type": "code",
   "execution_count": 3,
   "metadata": {},
   "outputs": [
    {
     "data": {
      "text/plain": [
       "((1556899, 17), (667243, 17))"
      ]
     },
     "execution_count": 3,
     "metadata": {},
     "output_type": "execute_result"
    }
   ],
   "source": [
    "X_train, X_test, y_train, y_test = train_test_split(data, data.valeur_fonciere,\n",
    "                                                    test_size=0.3,\n",
    "                                                    random_state=123) \n",
    "X_train.shape, X_test.shape"
   ]
  },
  {
   "cell_type": "markdown",
   "metadata": {},
   "source": [
    "### Valeurs manquantes\n",
    "Pour les variables catégoriques nous allons remplacer les valeurs manquantes par une nouvelle catégorie 'Missing'"
   ]
  },
  {
   "cell_type": "code",
   "execution_count": 4,
   "metadata": {},
   "outputs": [
    {
     "name": "stdout",
     "output_type": "stream",
     "text": [
      "adresse_nom_voie 0.001  % valeurs manquantes\n",
      "type_local 0.393  % valeurs manquantes\n"
     ]
    }
   ],
   "source": [
    "# création d'une liste contenant les variables catégoriques\n",
    "vars_with_na = [var for var in data.columns if X_train[var].isnull().sum()>1 and X_train[var].dtypes=='O']\n",
    "\n",
    "# affichage des variable avec le pourcentage de valeurs manquantes\n",
    "for var in vars_with_na:\n",
    "    print(var, np.round(X_train[var].isnull().mean(), 3),  ' % valeurs manquantes')"
   ]
  },
  {
   "cell_type": "code",
   "execution_count": 5,
   "metadata": {},
   "outputs": [],
   "source": [
    "# fonction remplaçant les valeurs manquantes par la catégorie 'Missing'\n",
    "def fill_categorical_na(df, var_list):\n",
    "    X = df.copy()\n",
    "    X[var_list] = df[var_list].fillna('Missing')\n",
    "    return X"
   ]
  },
  {
   "cell_type": "code",
   "execution_count": 6,
   "metadata": {},
   "outputs": [
    {
     "data": {
      "text/plain": [
       "adresse_nom_voie    0\n",
       "type_local          0\n",
       "dtype: int64"
      ]
     },
     "execution_count": 6,
     "metadata": {},
     "output_type": "execute_result"
    }
   ],
   "source": [
    "# remplacement des valeurs manquantes dans le train et le test\n",
    "X_train = fill_categorical_na(X_train, vars_with_na)\n",
    "X_test = fill_categorical_na(X_test, vars_with_na)\n",
    "\n",
    "# Vérification qu'il n'y ait plus de valeurs manquantes\n",
    "X_train[vars_with_na].isnull().sum()"
   ]
  },
  {
   "cell_type": "code",
   "execution_count": 7,
   "metadata": {},
   "outputs": [
    {
     "data": {
      "text/plain": [
       "[]"
      ]
     },
     "execution_count": 7,
     "metadata": {},
     "output_type": "execute_result"
    }
   ],
   "source": [
    "# vérification que l'ensemble de test ne contient pas de valeurs nulles dans les variables modifiées\n",
    "[vr for var in vars_with_na if X_test[var].isnull().sum()>0]"
   ]
  },
  {
   "cell_type": "markdown",
   "metadata": {},
   "source": [
    "Pour les variables numériques, nous allons ajouter une variable supplémentaire capturant les informations manquantes, puis remplacer les informations manquantes dans la variable d'origine par le mode, ou la valeur la plus fréquente"
   ]
  },
  {
   "cell_type": "code",
   "execution_count": 8,
   "metadata": {},
   "outputs": [
    {
     "name": "stdout",
     "output_type": "stream",
     "text": [
      "code_type_local 0.393  % valeur manquantes\n",
      "surface_reelle_bati 0.45  % valeur manquantes\n",
      "nombre_pieces_principales 0.394  % valeur manquantes\n",
      "surface_terrain 0.156  % valeur manquantes\n",
      "longitude 0.024  % valeur manquantes\n",
      "latitude 0.024  % valeur manquantes\n"
     ]
    }
   ],
   "source": [
    "# création d'une liste contenant les variables numériques contenant les valeurs manquantes \n",
    "vars_with_na = [var for var in data.columns if X_train[var].isnull().sum()>1 and X_train[var].dtypes!='O']\n",
    "\n",
    "# afiichage de ces variables avec le pourcentage\n",
    "for var in vars_with_na:\n",
    "    print(var, np.round(X_train[var].isnull().mean(), 3),  ' % valeur manquantes')"
   ]
  },
  {
   "cell_type": "code",
   "execution_count": 9,
   "metadata": {},
   "outputs": [
    {
     "data": {
      "text/plain": [
       "code_type_local              0\n",
       "surface_reelle_bati          0\n",
       "nombre_pieces_principales    0\n",
       "surface_terrain              0\n",
       "longitude                    0\n",
       "latitude                     0\n",
       "dtype: int64"
      ]
     },
     "execution_count": 9,
     "metadata": {},
     "output_type": "execute_result"
    }
   ],
   "source": [
    "# replacement des valeurs manquantes\n",
    "for var in vars_with_na:\n",
    "    \n",
    "    # calcul du mode\n",
    "    mode_val = X_train[var].mode()[0]\n",
    "    \n",
    "    # train\n",
    "    X_train[var+'_na'] = np.where(X_train[var].isnull(), 1, 0)\n",
    "    X_train[var].fillna(mode_val, inplace=True)\n",
    "    \n",
    "    # test\n",
    "    X_test[var+'_na'] = np.where(X_test[var].isnull(), 1, 0)\n",
    "    X_test[var].fillna(mode_val, inplace=True)\n",
    "\n",
    "# vérification qu'il n'y ait plus de valeurs manquantes\n",
    "X_train[vars_with_na].isnull().sum()"
   ]
  },
  {
   "cell_type": "code",
   "execution_count": 10,
   "metadata": {},
   "outputs": [
    {
     "data": {
      "text/html": [
       "<div>\n",
       "<style scoped>\n",
       "    .dataframe tbody tr th:only-of-type {\n",
       "        vertical-align: middle;\n",
       "    }\n",
       "\n",
       "    .dataframe tbody tr th {\n",
       "        vertical-align: top;\n",
       "    }\n",
       "\n",
       "    .dataframe thead th {\n",
       "        text-align: right;\n",
       "    }\n",
       "</style>\n",
       "<table border=\"1\" class=\"dataframe\">\n",
       "  <thead>\n",
       "    <tr style=\"text-align: right;\">\n",
       "      <th></th>\n",
       "      <th>code_type_local_na</th>\n",
       "      <th>surface_reelle_bati_na</th>\n",
       "      <th>nombre_pieces_principales</th>\n",
       "      <th>surface_terrain_na</th>\n",
       "      <th>longitude_na</th>\n",
       "      <th>latitude_na</th>\n",
       "    </tr>\n",
       "  </thead>\n",
       "  <tbody>\n",
       "    <tr>\n",
       "      <th>908673</th>\n",
       "      <td>0</td>\n",
       "      <td>0</td>\n",
       "      <td>3.0</td>\n",
       "      <td>0</td>\n",
       "      <td>0</td>\n",
       "      <td>0</td>\n",
       "    </tr>\n",
       "    <tr>\n",
       "      <th>81448</th>\n",
       "      <td>0</td>\n",
       "      <td>0</td>\n",
       "      <td>5.0</td>\n",
       "      <td>0</td>\n",
       "      <td>0</td>\n",
       "      <td>0</td>\n",
       "    </tr>\n",
       "    <tr>\n",
       "      <th>794832</th>\n",
       "      <td>1</td>\n",
       "      <td>1</td>\n",
       "      <td>4.0</td>\n",
       "      <td>0</td>\n",
       "      <td>0</td>\n",
       "      <td>0</td>\n",
       "    </tr>\n",
       "    <tr>\n",
       "      <th>2004947</th>\n",
       "      <td>0</td>\n",
       "      <td>1</td>\n",
       "      <td>0.0</td>\n",
       "      <td>1</td>\n",
       "      <td>0</td>\n",
       "      <td>0</td>\n",
       "    </tr>\n",
       "    <tr>\n",
       "      <th>159472</th>\n",
       "      <td>1</td>\n",
       "      <td>1</td>\n",
       "      <td>4.0</td>\n",
       "      <td>0</td>\n",
       "      <td>0</td>\n",
       "      <td>0</td>\n",
       "    </tr>\n",
       "  </tbody>\n",
       "</table>\n",
       "</div>"
      ],
      "text/plain": [
       "         code_type_local_na  surface_reelle_bati_na  \\\n",
       "908673                    0                       0   \n",
       "81448                     0                       0   \n",
       "794832                    1                       1   \n",
       "2004947                   0                       1   \n",
       "159472                    1                       1   \n",
       "\n",
       "         nombre_pieces_principales  surface_terrain_na  longitude_na  \\\n",
       "908673                         3.0                   0             0   \n",
       "81448                          5.0                   0             0   \n",
       "794832                         4.0                   0             0   \n",
       "2004947                        0.0                   1             0   \n",
       "159472                         4.0                   0             0   \n",
       "\n",
       "         latitude_na  \n",
       "908673             0  \n",
       "81448              0  \n",
       "794832             0  \n",
       "2004947            0  \n",
       "159472             0  "
      ]
     },
     "execution_count": 10,
     "metadata": {},
     "output_type": "execute_result"
    }
   ],
   "source": [
    "# verification qu'il y ait bien les variables binaires contenant les valeurs manquantes\n",
    "X_train[['code_type_local_na', 'surface_reelle_bati_na', 'nombre_pieces_principales', 'surface_terrain_na', 'longitude_na', 'latitude_na']].head()"
   ]
  },
  {
   "cell_type": "code",
   "execution_count": 11,
   "metadata": {},
   "outputs": [
    {
     "data": {
      "text/plain": [
       "[]"
      ]
     },
     "execution_count": 11,
     "metadata": {},
     "output_type": "execute_result"
    }
   ],
   "source": [
    "# vérification que l'ensemble de test ne contient pas de valeurs nulles dans les variables modifiées\n",
    "[vr for var in vars_with_na if X_test[var].isnull().sum()>0]"
   ]
  },
  {
   "cell_type": "markdown",
   "metadata": {},
   "source": [
    "### Variable numérique\n",
    "Nous allons transformer les variables numériques (valeurs continues), afin d'obtenir une distribution plus gaussienne. Cela a tendance à aider les modèles d'apprentissage automatique linéaire"
   ]
  },
  {
   "cell_type": "code",
   "execution_count": 12,
   "metadata": {},
   "outputs": [
    {
     "name": "stderr",
     "output_type": "stream",
     "text": [
      "C:\\Users\\amand\\AppData\\Local\\Programs\\Python\\Python36\\lib\\site-packages\\pandas\\core\\series.py:679: RuntimeWarning: invalid value encountered in log\n",
      "  result = getattr(ufunc, method)(*inputs, **kwargs)\n"
     ]
    }
   ],
   "source": [
    "for var in ['valeur_fonciere', 'surface_reelle_bati', 'surface_terrain', 'longitude', 'latitude']:\n",
    "    X_train[var] = np.log(X_train[var])\n",
    "    X_test[var]= np.log(X_test[var])"
   ]
  },
  {
   "cell_type": "code",
   "execution_count": 13,
   "metadata": {},
   "outputs": [
    {
     "data": {
      "text/plain": [
       "['longitude', 'latitude']"
      ]
     },
     "execution_count": 13,
     "metadata": {},
     "output_type": "execute_result"
    }
   ],
   "source": [
    "# vérification pour le train\n",
    "[var for var in ['valeur_fonciere', 'surface_reelle_bati', 'surface_terrain', 'longitude', 'latitude'] if X_train[var].isnull().sum()>0]"
   ]
  },
  {
   "cell_type": "code",
   "execution_count": 14,
   "metadata": {},
   "outputs": [
    {
     "data": {
      "text/plain": [
       "['longitude', 'latitude']"
      ]
     },
     "execution_count": 14,
     "metadata": {},
     "output_type": "execute_result"
    }
   ],
   "source": [
    "# vérification pour la test\n",
    "[var for var in ['valeur_fonciere', 'surface_reelle_bati', 'surface_terrain', 'longitude', 'latitude'] if X_test[var].isnull().sum()>0]"
   ]
  },
  {
   "cell_type": "markdown",
   "metadata": {},
   "source": [
    "### Variables catégoriques\n",
    "Nous allons supprimer les catégories des variables présentes dans moins de 1% des observations"
   ]
  },
  {
   "cell_type": "code",
   "execution_count": 15,
   "metadata": {},
   "outputs": [],
   "source": [
    "# récupérons les variables catégoriques\n",
    "cat_vars = [var for var in X_train.columns if X_train[var].dtype == 'O' and var not in ['id_mutation', 'id_parcelle', 'id_bien', 'date_mutation', 'adresse_nom_voie', 'nom_commune']]"
   ]
  },
  {
   "cell_type": "code",
   "execution_count": 16,
   "metadata": {},
   "outputs": [],
   "source": [
    "def find_frequent_labels(df, var, rare_perc):\n",
    "    # récupérons les labels partagés par plus d'un certain % des maisons du dataset\n",
    "    df = df.copy()\n",
    "    tmp = df.groupby(var)['valeur_fonciere'].count() / len(df)\n",
    "    return tmp[tmp>rare_perc].index\n",
    "\n",
    "for var in cat_vars:\n",
    "    frequent_ls = find_frequent_labels(X_train, var, 0.01)\n",
    "    X_train[var] = np.where(X_train[var].isin(frequent_ls), X_train[var], 'Rare')\n",
    "    X_test[var] = np.where(X_test[var].isin(frequent_ls), X_test[var], 'Rare')"
   ]
  },
  {
   "cell_type": "markdown",
   "metadata": {},
   "source": [
    "Ensuite, nous allons transformer le texte de ces variables en nombres"
   ]
  },
  {
   "cell_type": "code",
   "execution_count": 17,
   "metadata": {},
   "outputs": [],
   "source": [
    "# cette fonction affectera des valeurs discrètes aux chaînes des variables,\n",
    "# de sorte que la plus petite valeur corresponde à la plus petite moyenne de la cible\n",
    "def replace_categories(train, test, var, target):\n",
    "    ordered_labels = train.groupby([var])[target].mean().sort_values().index\n",
    "    ordinal_label = {k:i for i, k in enumerate(ordered_labels, 0)} \n",
    "    train[var] = train[var].map(ordinal_label)\n",
    "    test[var] = test[var].map(ordinal_label)"
   ]
  },
  {
   "cell_type": "code",
   "execution_count": 18,
   "metadata": {},
   "outputs": [],
   "source": [
    "for var in cat_vars:\n",
    "    replace_categories(X_train, X_test, var, 'valeur_fonciere')"
   ]
  },
  {
   "cell_type": "code",
   "execution_count": 19,
   "metadata": {},
   "outputs": [
    {
     "data": {
      "text/plain": [
       "['longitude', 'latitude']"
      ]
     },
     "execution_count": 19,
     "metadata": {},
     "output_type": "execute_result"
    }
   ],
   "source": [
    "# vérification de l'abscence de na\n",
    "[var for var in X_train.columns if X_train[var].isnull().sum()>0]"
   ]
  },
  {
   "cell_type": "code",
   "execution_count": 20,
   "metadata": {},
   "outputs": [
    {
     "data": {
      "text/plain": [
       "['longitude', 'latitude']"
      ]
     },
     "execution_count": 20,
     "metadata": {},
     "output_type": "execute_result"
    }
   ],
   "source": [
    "# vérification de l'abscence de na\n",
    "[var for var in X_test.columns if X_test[var].isnull().sum()>0]"
   ]
  },
  {
   "cell_type": "code",
   "execution_count": 21,
   "metadata": {},
   "outputs": [
    {
     "data": {
      "image/png": "[encoded data removed]",
      "text/plain": [
       "<Figure size 432x288 with 1 Axes>"
      ]
     },
     "metadata": {
      "needs_background": "light"
     },
     "output_type": "display_data"
    },
    {
     "data": {
      "image/png": "[encoded data removed]",
      "text/plain": [
       "<Figure size 432x288 with 1 Axes>"
      ]
     },
     "metadata": {
      "needs_background": "light"
     },
     "output_type": "display_data"
    },
    {
     "data": {
      "image/png": "[encoded data removed]",
      "text/plain": [
       "<Figure size 432x288 with 1 Axes>"
      ]
     },
     "metadata": {
      "needs_background": "light"
     },
     "output_type": "display_data"
    }
   ],
   "source": [
    "def analyse_vars(df, var):\n",
    "    df = df.copy()\n",
    "    df.groupby(var)['valeur_fonciere'].median().plot.bar()\n",
    "    plt.title(var)\n",
    "    plt.ylabel('valeur_fonciere')\n",
    "    plt.show()\n",
    "    \n",
    "for var in cat_vars:\n",
    "    analyse_vars(X_train, var)"
   ]
  },
  {
   "cell_type": "markdown",
   "metadata": {},
   "source": [
    "### Feature scaling"
   ]
  },
  {
   "cell_type": "code",
   "execution_count": 22,
   "metadata": {},
   "outputs": [
    {
     "data": {
      "text/plain": [
       "16"
      ]
     },
     "execution_count": 22,
     "metadata": {},
     "output_type": "execute_result"
    }
   ],
   "source": [
    "train_vars = [var for var in X_train.columns if var not in ['id_mutation', 'id_parcelle', 'id_bien', 'date_mutation', 'adresse_nom_voie', 'nom_commune', 'valeur_fonciere']]\n",
    "len(train_vars)"
   ]
  },
  {
   "cell_type": "code",
   "execution_count": 23,
   "metadata": {},
   "outputs": [
    {
     "data": {
      "text/html": [
       "<div>\n",
       "<style scoped>\n",
       "    .dataframe tbody tr th:only-of-type {\n",
       "        vertical-align: middle;\n",
       "    }\n",
       "\n",
       "    .dataframe tbody tr th {\n",
       "        vertical-align: top;\n",
       "    }\n",
       "\n",
       "    .dataframe thead th {\n",
       "        text-align: right;\n",
       "    }\n",
       "</style>\n",
       "<table border=\"1\" class=\"dataframe\">\n",
       "  <thead>\n",
       "    <tr style=\"text-align: right;\">\n",
       "      <th></th>\n",
       "      <th>id_mutation</th>\n",
       "      <th>id_parcelle</th>\n",
       "      <th>id_bien</th>\n",
       "      <th>date_mutation</th>\n",
       "      <th>adresse_nom_voie</th>\n",
       "      <th>nom_commune</th>\n",
       "      <th>valeur_fonciere</th>\n",
       "    </tr>\n",
       "  </thead>\n",
       "  <tbody>\n",
       "    <tr>\n",
       "      <th>0</th>\n",
       "      <td>2017-1381514</td>\n",
       "      <td>95018000AV0057</td>\n",
       "      <td>95018000AV0057-95</td>\n",
       "      <td>2017-05-16</td>\n",
       "      <td>RUE DE ST QUENTIN</td>\n",
       "      <td>Argenteuil</td>\n",
       "      <td>12.354493</td>\n",
       "    </tr>\n",
       "    <tr>\n",
       "      <th>1</th>\n",
       "      <td>2017-131542</td>\n",
       "      <td>132098460A0288</td>\n",
       "      <td>132098460A0288-13</td>\n",
       "      <td>2017-04-07</td>\n",
       "      <td>RUE ANTOINE FORTUNE MARION</td>\n",
       "      <td>Marseille 9e Arrondissement</td>\n",
       "      <td>13.075272</td>\n",
       "    </tr>\n",
       "    <tr>\n",
       "      <th>2</th>\n",
       "      <td>2017-1162525</td>\n",
       "      <td>83038000AB0022</td>\n",
       "      <td>83038000AB0022-83</td>\n",
       "      <td>2017-05-22</td>\n",
       "      <td>SAINTE ANNE</td>\n",
       "      <td>Châteaudouble</td>\n",
       "      <td>11.652687</td>\n",
       "    </tr>\n",
       "    <tr>\n",
       "      <th>3</th>\n",
       "      <td>2019-173403</td>\n",
       "      <td>44109000NY0325</td>\n",
       "      <td>44109000NY0325-44</td>\n",
       "      <td>2019-03-29</td>\n",
       "      <td>RUE FELIX LEMOINE</td>\n",
       "      <td>Nantes</td>\n",
       "      <td>9.510445</td>\n",
       "    </tr>\n",
       "    <tr>\n",
       "      <th>4</th>\n",
       "      <td>2017-242501</td>\n",
       "      <td>22011000AB0237</td>\n",
       "      <td>22011000AB0237-22</td>\n",
       "      <td>2017-04-27</td>\n",
       "      <td>LE BOURG</td>\n",
       "      <td>Boqueho</td>\n",
       "      <td>8.006368</td>\n",
       "    </tr>\n",
       "    <tr>\n",
       "      <th>...</th>\n",
       "      <td>...</td>\n",
       "      <td>...</td>\n",
       "      <td>...</td>\n",
       "      <td>...</td>\n",
       "      <td>...</td>\n",
       "      <td>...</td>\n",
       "      <td>...</td>\n",
       "    </tr>\n",
       "    <tr>\n",
       "      <th>1556894</th>\n",
       "      <td>2019-113340</td>\n",
       "      <td>33281000BX0364</td>\n",
       "      <td>33281000BX0364-33</td>\n",
       "      <td>2019-01-28</td>\n",
       "      <td>RUE DES ORMES</td>\n",
       "      <td>Mérignac</td>\n",
       "      <td>13.102161</td>\n",
       "    </tr>\n",
       "    <tr>\n",
       "      <th>1556895</th>\n",
       "      <td>2018-430810</td>\n",
       "      <td>34336000AC0154</td>\n",
       "      <td>34336000AC0154-34</td>\n",
       "      <td>2018-02-28</td>\n",
       "      <td>LE VILLAGE</td>\n",
       "      <td>Villeneuve-lès-Béziers</td>\n",
       "      <td>13.226723</td>\n",
       "    </tr>\n",
       "    <tr>\n",
       "      <th>1556896</th>\n",
       "      <td>2017-34071</td>\n",
       "      <td>040450000F0867</td>\n",
       "      <td>040450000F0867-04</td>\n",
       "      <td>2017-10-31</td>\n",
       "      <td>CLOS PAUL ARENE</td>\n",
       "      <td>Céreste</td>\n",
       "      <td>12.024910</td>\n",
       "    </tr>\n",
       "    <tr>\n",
       "      <th>1556897</th>\n",
       "      <td>2017-404719</td>\n",
       "      <td>33268000AI0071</td>\n",
       "      <td>33268000AI0071-33</td>\n",
       "      <td>2017-02-11</td>\n",
       "      <td>LE MATHA</td>\n",
       "      <td>Margaux-Cantenac</td>\n",
       "      <td>8.411833</td>\n",
       "    </tr>\n",
       "    <tr>\n",
       "      <th>1556898</th>\n",
       "      <td>2017-1133934</td>\n",
       "      <td>80706000AB0110</td>\n",
       "      <td>80706000AB0110-80</td>\n",
       "      <td>2017-09-01</td>\n",
       "      <td>RUE DU CIMETIERE</td>\n",
       "      <td>Saint-Léger-lès-Domart</td>\n",
       "      <td>12.100712</td>\n",
       "    </tr>\n",
       "  </tbody>\n",
       "</table>\n",
       "<p>1556899 rows × 7 columns</p>\n",
       "</div>"
      ],
      "text/plain": [
       "          id_mutation     id_parcelle            id_bien date_mutation  \\\n",
       "0        2017-1381514  95018000AV0057  95018000AV0057-95    2017-05-16   \n",
       "1         2017-131542  132098460A0288  132098460A0288-13    2017-04-07   \n",
       "2        2017-1162525  83038000AB0022  83038000AB0022-83    2017-05-22   \n",
       "3         2019-173403  44109000NY0325  44109000NY0325-44    2019-03-29   \n",
       "4         2017-242501  22011000AB0237  22011000AB0237-22    2017-04-27   \n",
       "...               ...             ...                ...           ...   \n",
       "1556894   2019-113340  33281000BX0364  33281000BX0364-33    2019-01-28   \n",
       "1556895   2018-430810  34336000AC0154  34336000AC0154-34    2018-02-28   \n",
       "1556896    2017-34071  040450000F0867  040450000F0867-04    2017-10-31   \n",
       "1556897   2017-404719  33268000AI0071  33268000AI0071-33    2017-02-11   \n",
       "1556898  2017-1133934  80706000AB0110  80706000AB0110-80    2017-09-01   \n",
       "\n",
       "                   adresse_nom_voie                  nom_commune  \\\n",
       "0                 RUE DE ST QUENTIN                   Argenteuil   \n",
       "1        RUE ANTOINE FORTUNE MARION  Marseille 9e Arrondissement   \n",
       "2                       SAINTE ANNE                Châteaudouble   \n",
       "3                 RUE FELIX LEMOINE                       Nantes   \n",
       "4                          LE BOURG                      Boqueho   \n",
       "...                             ...                          ...   \n",
       "1556894               RUE DES ORMES                     Mérignac   \n",
       "1556895                  LE VILLAGE       Villeneuve-lès-Béziers   \n",
       "1556896             CLOS PAUL ARENE                      Céreste   \n",
       "1556897                    LE MATHA             Margaux-Cantenac   \n",
       "1556898            RUE DU CIMETIERE       Saint-Léger-lès-Domart   \n",
       "\n",
       "         valeur_fonciere  \n",
       "0              12.354493  \n",
       "1              13.075272  \n",
       "2              11.652687  \n",
       "3               9.510445  \n",
       "4               8.006368  \n",
       "...                  ...  \n",
       "1556894        13.102161  \n",
       "1556895        13.226723  \n",
       "1556896        12.024910  \n",
       "1556897         8.411833  \n",
       "1556898        12.100712  \n",
       "\n",
       "[1556899 rows x 7 columns]"
      ]
     },
     "execution_count": 23,
     "metadata": {},
     "output_type": "execute_result"
    }
   ],
   "source": [
    "X_train[['id_mutation', 'id_parcelle', 'id_bien', 'date_mutation', 'adresse_nom_voie', 'nom_commune', 'valeur_fonciere']].reset_index(drop=True)"
   ]
  },
  {
   "cell_type": "code",
   "execution_count": 24,
   "metadata": {},
   "outputs": [],
   "source": [
    "# fit scaler\n",
    "scaler = MinMaxScaler() \n",
    "scaler.fit(X_train[train_vars])\n",
    "\n",
    "# transform the train and test set\n",
    "X_train = pd.concat([X_train[['id_mutation', 'id_parcelle', 'id_bien', 'date_mutation', 'adresse_nom_voie', 'nom_commune', 'valeur_fonciere']].reset_index(drop=True),\n",
    "                    pd.DataFrame(scaler.transform(X_train[train_vars]), columns=train_vars)],\n",
    "                    axis=1)\n",
    "\n",
    "X_test = pd.concat([X_test[['id_mutation', 'id_parcelle', 'id_bien', 'date_mutation', 'adresse_nom_voie', 'nom_commune', 'valeur_fonciere']].reset_index(drop=True),\n",
    "                    pd.DataFrame(scaler.transform(X_test[train_vars]), columns=train_vars)],\n",
    "                    axis=1)"
   ]
  },
  {
   "cell_type": "code",
   "execution_count": 25,
   "metadata": {},
   "outputs": [
    {
     "data": {
      "text/html": [
       "<div>\n",
       "<style scoped>\n",
       "    .dataframe tbody tr th:only-of-type {\n",
       "        vertical-align: middle;\n",
       "    }\n",
       "\n",
       "    .dataframe tbody tr th {\n",
       "        vertical-align: top;\n",
       "    }\n",
       "\n",
       "    .dataframe thead th {\n",
       "        text-align: right;\n",
       "    }\n",
       "</style>\n",
       "<table border=\"1\" class=\"dataframe\">\n",
       "  <thead>\n",
       "    <tr style=\"text-align: right;\">\n",
       "      <th></th>\n",
       "      <th>id_mutation</th>\n",
       "      <th>id_parcelle</th>\n",
       "      <th>id_bien</th>\n",
       "      <th>date_mutation</th>\n",
       "      <th>adresse_nom_voie</th>\n",
       "      <th>nom_commune</th>\n",
       "      <th>valeur_fonciere</th>\n",
       "      <th>nature_mutation</th>\n",
       "      <th>code_departement</th>\n",
       "      <th>nombre_lots</th>\n",
       "      <th>code_type_local</th>\n",
       "      <th>type_local</th>\n",
       "      <th>surface_reelle_bati</th>\n",
       "      <th>nombre_pieces_principales</th>\n",
       "      <th>surface_terrain</th>\n",
       "      <th>longitude</th>\n",
       "      <th>latitude</th>\n",
       "      <th>code_type_local_na</th>\n",
       "      <th>surface_reelle_bati_na</th>\n",
       "      <th>nombre_pieces_principales_na</th>\n",
       "      <th>surface_terrain_na</th>\n",
       "      <th>longitude_na</th>\n",
       "      <th>latitude_na</th>\n",
       "    </tr>\n",
       "  </thead>\n",
       "  <tbody>\n",
       "    <tr>\n",
       "      <th>0</th>\n",
       "      <td>2017-1381514</td>\n",
       "      <td>95018000AV0057</td>\n",
       "      <td>95018000AV0057-95</td>\n",
       "      <td>2017-05-16</td>\n",
       "      <td>RUE DE ST QUENTIN</td>\n",
       "      <td>Argenteuil</td>\n",
       "      <td>12.354493</td>\n",
       "      <td>0.666667</td>\n",
       "      <td>0.950</td>\n",
       "      <td>0.00000</td>\n",
       "      <td>0.000000</td>\n",
       "      <td>1.00</td>\n",
       "      <td>0.331789</td>\n",
       "      <td>0.033333</td>\n",
       "      <td>0.317739</td>\n",
       "      <td>0.808165</td>\n",
       "      <td>0.984716</td>\n",
       "      <td>0.0</td>\n",
       "      <td>0.0</td>\n",
       "      <td>0.0</td>\n",
       "      <td>0.0</td>\n",
       "      <td>0.0</td>\n",
       "      <td>0.0</td>\n",
       "    </tr>\n",
       "    <tr>\n",
       "      <th>1</th>\n",
       "      <td>2017-131542</td>\n",
       "      <td>132098460A0288</td>\n",
       "      <td>132098460A0288-13</td>\n",
       "      <td>2017-04-07</td>\n",
       "      <td>RUE ANTOINE FORTUNE MARION</td>\n",
       "      <td>Marseille 9e Arrondissement</td>\n",
       "      <td>13.075272</td>\n",
       "      <td>0.666667</td>\n",
       "      <td>0.875</td>\n",
       "      <td>0.00000</td>\n",
       "      <td>0.000000</td>\n",
       "      <td>1.00</td>\n",
       "      <td>0.381939</td>\n",
       "      <td>0.055556</td>\n",
       "      <td>0.405742</td>\n",
       "      <td>0.860498</td>\n",
       "      <td>0.940072</td>\n",
       "      <td>0.0</td>\n",
       "      <td>0.0</td>\n",
       "      <td>0.0</td>\n",
       "      <td>0.0</td>\n",
       "      <td>0.0</td>\n",
       "      <td>0.0</td>\n",
       "    </tr>\n",
       "    <tr>\n",
       "      <th>2</th>\n",
       "      <td>2017-1162525</td>\n",
       "      <td>83038000AB0022</td>\n",
       "      <td>83038000AB0022-83</td>\n",
       "      <td>2017-05-22</td>\n",
       "      <td>SAINTE ANNE</td>\n",
       "      <td>Châteaudouble</td>\n",
       "      <td>11.652687</td>\n",
       "      <td>0.666667</td>\n",
       "      <td>0.850</td>\n",
       "      <td>0.00000</td>\n",
       "      <td>0.000000</td>\n",
       "      <td>0.00</td>\n",
       "      <td>0.349591</td>\n",
       "      <td>0.044444</td>\n",
       "      <td>0.497230</td>\n",
       "      <td>0.871099</td>\n",
       "      <td>0.943037</td>\n",
       "      <td>1.0</td>\n",
       "      <td>1.0</td>\n",
       "      <td>1.0</td>\n",
       "      <td>0.0</td>\n",
       "      <td>0.0</td>\n",
       "      <td>0.0</td>\n",
       "    </tr>\n",
       "    <tr>\n",
       "      <th>3</th>\n",
       "      <td>2019-173403</td>\n",
       "      <td>44109000NY0325</td>\n",
       "      <td>44109000NY0325-44</td>\n",
       "      <td>2019-03-29</td>\n",
       "      <td>RUE FELIX LEMOINE</td>\n",
       "      <td>Nantes</td>\n",
       "      <td>9.510445</td>\n",
       "      <td>0.666667</td>\n",
       "      <td>0.575</td>\n",
       "      <td>0.00303</td>\n",
       "      <td>0.666667</td>\n",
       "      <td>0.25</td>\n",
       "      <td>0.349591</td>\n",
       "      <td>0.000000</td>\n",
       "      <td>0.416154</td>\n",
       "      <td>NaN</td>\n",
       "      <td>0.971868</td>\n",
       "      <td>0.0</td>\n",
       "      <td>1.0</td>\n",
       "      <td>0.0</td>\n",
       "      <td>1.0</td>\n",
       "      <td>0.0</td>\n",
       "      <td>0.0</td>\n",
       "    </tr>\n",
       "    <tr>\n",
       "      <th>4</th>\n",
       "      <td>2017-242501</td>\n",
       "      <td>22011000AB0237</td>\n",
       "      <td>22011000AB0237-22</td>\n",
       "      <td>2017-04-27</td>\n",
       "      <td>LE BOURG</td>\n",
       "      <td>Boqueho</td>\n",
       "      <td>8.006368</td>\n",
       "      <td>0.666667</td>\n",
       "      <td>0.125</td>\n",
       "      <td>0.00000</td>\n",
       "      <td>0.000000</td>\n",
       "      <td>0.00</td>\n",
       "      <td>0.349591</td>\n",
       "      <td>0.044444</td>\n",
       "      <td>0.227757</td>\n",
       "      <td>NaN</td>\n",
       "      <td>0.981227</td>\n",
       "      <td>1.0</td>\n",
       "      <td>1.0</td>\n",
       "      <td>1.0</td>\n",
       "      <td>0.0</td>\n",
       "      <td>0.0</td>\n",
       "      <td>0.0</td>\n",
       "    </tr>\n",
       "  </tbody>\n",
       "</table>\n",
       "</div>"
      ],
      "text/plain": [
       "    id_mutation     id_parcelle            id_bien date_mutation  \\\n",
       "0  2017-1381514  95018000AV0057  95018000AV0057-95    2017-05-16   \n",
       "1   2017-131542  132098460A0288  132098460A0288-13    2017-04-07   \n",
       "2  2017-1162525  83038000AB0022  83038000AB0022-83    2017-05-22   \n",
       "3   2019-173403  44109000NY0325  44109000NY0325-44    2019-03-29   \n",
       "4   2017-242501  22011000AB0237  22011000AB0237-22    2017-04-27   \n",
       "\n",
       "             adresse_nom_voie                  nom_commune  valeur_fonciere  \\\n",
       "0           RUE DE ST QUENTIN                   Argenteuil        12.354493   \n",
       "1  RUE ANTOINE FORTUNE MARION  Marseille 9e Arrondissement        13.075272   \n",
       "2                 SAINTE ANNE                Châteaudouble        11.652687   \n",
       "3           RUE FELIX LEMOINE                       Nantes         9.510445   \n",
       "4                    LE BOURG                      Boqueho         8.006368   \n",
       "\n",
       "   nature_mutation  code_departement  nombre_lots  code_type_local  \\\n",
       "0         0.666667             0.950      0.00000         0.000000   \n",
       "1         0.666667             0.875      0.00000         0.000000   \n",
       "2         0.666667             0.850      0.00000         0.000000   \n",
       "3         0.666667             0.575      0.00303         0.666667   \n",
       "4         0.666667             0.125      0.00000         0.000000   \n",
       "\n",
       "   type_local  surface_reelle_bati  nombre_pieces_principales  \\\n",
       "0        1.00             0.331789                   0.033333   \n",
       "1        1.00             0.381939                   0.055556   \n",
       "2        0.00             0.349591                   0.044444   \n",
       "3        0.25             0.349591                   0.000000   \n",
       "4        0.00             0.349591                   0.044444   \n",
       "\n",
       "   surface_terrain  longitude  latitude  code_type_local_na  \\\n",
       "0         0.317739   0.808165  0.984716                 0.0   \n",
       "1         0.405742   0.860498  0.940072                 0.0   \n",
       "2         0.497230   0.871099  0.943037                 1.0   \n",
       "3         0.416154        NaN  0.971868                 0.0   \n",
       "4         0.227757        NaN  0.981227                 1.0   \n",
       "\n",
       "   surface_reelle_bati_na  nombre_pieces_principales_na  surface_terrain_na  \\\n",
       "0                     0.0                           0.0                 0.0   \n",
       "1                     0.0                           0.0                 0.0   \n",
       "2                     1.0                           1.0                 0.0   \n",
       "3                     1.0                           0.0                 1.0   \n",
       "4                     1.0                           1.0                 0.0   \n",
       "\n",
       "   longitude_na  latitude_na  \n",
       "0           0.0          0.0  \n",
       "1           0.0          0.0  \n",
       "2           0.0          0.0  \n",
       "3           0.0          0.0  \n",
       "4           0.0          0.0  "
      ]
     },
     "execution_count": 25,
     "metadata": {},
     "output_type": "execute_result"
    }
   ],
   "source": [
    "X_train.head()"
   ]
  },
  {
   "cell_type": "code",
   "execution_count": 26,
   "metadata": {},
   "outputs": [
    {
     "data": {
      "text/plain": [
       "id_mutation                          0\n",
       "id_parcelle                          0\n",
       "id_bien                              0\n",
       "date_mutation                        0\n",
       "adresse_nom_voie                     0\n",
       "nom_commune                          0\n",
       "valeur_fonciere                      0\n",
       "nature_mutation                      0\n",
       "code_departement                     0\n",
       "nombre_lots                          0\n",
       "code_type_local                      0\n",
       "type_local                           0\n",
       "surface_reelle_bati                  0\n",
       "nombre_pieces_principales            0\n",
       "surface_terrain                      0\n",
       "longitude                       393623\n",
       "latitude                          6282\n",
       "code_type_local_na                   0\n",
       "surface_reelle_bati_na               0\n",
       "nombre_pieces_principales_na         0\n",
       "surface_terrain_na                   0\n",
       "longitude_na                         0\n",
       "latitude_na                          0\n",
       "dtype: int64"
      ]
     },
     "execution_count": 26,
     "metadata": {},
     "output_type": "execute_result"
    }
   ],
   "source": [
    "# vérification de l'absence des valeurs nulles\n",
    "X_train.isnull().sum()"
   ]
  },
  {
   "cell_type": "code",
   "execution_count": 27,
   "metadata": {},
   "outputs": [],
   "source": [
    "# sauvegarde des datasets\n",
    "X_train.to_csv('xtrain.csv', index=False)\n",
    "X_test.to_csv('xtest.csv', index=False)"
   ]
  },
  {
   "cell_type": "code",
   "execution_count": null,
   "metadata": {},
   "outputs": [],
   "source": []
  }
 ],
 "metadata": {
  "kernelspec": {
   "display_name": "Python 3.6.7 64-bit",
   "language": "python",
   "name": "python36764bit96d048ef95ea4820bafbd6599a19d414"
  },
  "language_info": {
   "codemirror_mode": {
    "name": "ipython",
    "version": 3
   },
   "file_extension": ".py",
   "mimetype": "text/x-python",
   "name": "python",
   "nbconvert_exporter": "python",
   "pygments_lexer": "ipython3",
   "version": "3.6.7"
  }
 },
 "nbformat": 4,
 "nbformat_minor": 4
}
