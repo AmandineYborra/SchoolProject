{
 "cells": [
  {
   "cell_type": "markdown",
   "metadata": {},
   "source": [
    "# Feature Engineering pour Machine Learning Prédictif"
   ]
  },
  {
   "cell_type": "markdown",
   "metadata": {},
   "source": [
    "### Importation des librairies"
   ]
  },
  {
   "cell_type": "code",
   "execution_count": 1,
   "metadata": {},
   "outputs": [],
   "source": [
    "import pandas as pd\n",
    "import numpy as np\n",
    "import matplotlib.pyplot as plt\n",
    "import seaborn as sns\n",
    "%matplotlib inline\n",
    "import warnings\n",
    "warnings.filterwarnings('ignore')"
   ]
  },
  {
   "cell_type": "markdown",
   "metadata": {},
   "source": [
    "### Importation du csv DVF"
   ]
  },
  {
   "cell_type": "code",
   "execution_count": 2,
   "metadata": {},
   "outputs": [],
   "source": [
    "dvf = pd.read_csv('Data/dvf.csv', sep=',', low_memory=False)"
   ]
  },
  {
   "cell_type": "markdown",
   "metadata": {},
   "source": [
    "## Partie 1 :Feature Engineering & Data Analysis round 2"
   ]
  },
  {
   "cell_type": "markdown",
   "metadata": {},
   "source": [
    "### Remarques :\n",
    "Après le premier nettoyage le dataset n'est pas encore prêt à être joué avec un algorithme.   \n",
    "Il faut faut déterminer les colonnes qui vont être corrélées avec la target. C'est-à-dire qu'il nous faut connaître les colonnes qui vont influencer le prix d'un bien immobilier. Pour cela on va tout d'abord ce remémorer la composition du dataframe."
   ]
  },
  {
   "cell_type": "markdown",
   "metadata": {},
   "source": [
    "### Exploration des données"
   ]
  },
  {
   "cell_type": "code",
   "execution_count": 3,
   "metadata": {},
   "outputs": [
    {
     "name": "stdout",
     "output_type": "stream",
     "text": [
      "<class 'pandas.core.frame.DataFrame'>\n",
      "RangeIndex: 2224142 entries, 0 to 2224141\n",
      "Data columns (total 17 columns):\n",
      " #   Column                     Dtype  \n",
      "---  ------                     -----  \n",
      " 0   id_mutation                object \n",
      " 1   date_mutation              object \n",
      " 2   nature_mutation            object \n",
      " 3   valeur_fonciere            float64\n",
      " 4   adresse_nom_voie           object \n",
      " 5   nom_commune                object \n",
      " 6   code_departement           object \n",
      " 7   id_parcelle                object \n",
      " 8   nombre_lots                int64  \n",
      " 9   code_type_local            float64\n",
      " 10  type_local                 object \n",
      " 11  surface_reelle_bati        float64\n",
      " 12  nombre_pieces_principales  float64\n",
      " 13  surface_terrain            float64\n",
      " 14  longitude                  float64\n",
      " 15  latitude                   float64\n",
      " 16  id_bien                    object \n",
      "dtypes: float64(7), int64(1), object(9)\n",
      "memory usage: 288.5+ MB\n"
     ]
    }
   ],
   "source": [
    "dvf.info()"
   ]
  },
  {
   "cell_type": "code",
   "execution_count": 4,
   "metadata": {},
   "outputs": [
    {
     "data": {
      "text/html": [
       "<div>\n",
       "<style scoped>\n",
       "    .dataframe tbody tr th:only-of-type {\n",
       "        vertical-align: middle;\n",
       "    }\n",
       "\n",
       "    .dataframe tbody tr th {\n",
       "        vertical-align: top;\n",
       "    }\n",
       "\n",
       "    .dataframe thead th {\n",
       "        text-align: right;\n",
       "    }\n",
       "</style>\n",
       "<table border=\"1\" class=\"dataframe\">\n",
       "  <thead>\n",
       "    <tr style=\"text-align: right;\">\n",
       "      <th></th>\n",
       "      <th>valeur_fonciere</th>\n",
       "      <th>nombre_lots</th>\n",
       "      <th>code_type_local</th>\n",
       "      <th>surface_reelle_bati</th>\n",
       "      <th>nombre_pieces_principales</th>\n",
       "      <th>surface_terrain</th>\n",
       "      <th>longitude</th>\n",
       "      <th>latitude</th>\n",
       "    </tr>\n",
       "  </thead>\n",
       "  <tbody>\n",
       "    <tr>\n",
       "      <th>count</th>\n",
       "      <td>2.224142e+06</td>\n",
       "      <td>2.224142e+06</td>\n",
       "      <td>1.348953e+06</td>\n",
       "      <td>1.223008e+06</td>\n",
       "      <td>1.346962e+06</td>\n",
       "      <td>1.875892e+06</td>\n",
       "      <td>2.171583e+06</td>\n",
       "      <td>2.171583e+06</td>\n",
       "    </tr>\n",
       "    <tr>\n",
       "      <th>mean</th>\n",
       "      <td>2.052168e+05</td>\n",
       "      <td>2.253525e-01</td>\n",
       "      <td>1.535372e+00</td>\n",
       "      <td>1.196465e+02</td>\n",
       "      <td>3.315520e+00</td>\n",
       "      <td>1.838143e+03</td>\n",
       "      <td>1.952514e+00</td>\n",
       "      <td>4.639342e+01</td>\n",
       "    </tr>\n",
       "    <tr>\n",
       "      <th>std</th>\n",
       "      <td>2.292359e+06</td>\n",
       "      <td>7.998093e-01</td>\n",
       "      <td>8.871148e-01</td>\n",
       "      <td>5.772342e+02</td>\n",
       "      <td>1.988447e+00</td>\n",
       "      <td>8.571996e+03</td>\n",
       "      <td>6.085189e+00</td>\n",
       "      <td>5.414858e+00</td>\n",
       "    </tr>\n",
       "    <tr>\n",
       "      <th>min</th>\n",
       "      <td>1.000000e-02</td>\n",
       "      <td>0.000000e+00</td>\n",
       "      <td>1.000000e+00</td>\n",
       "      <td>1.000000e+00</td>\n",
       "      <td>0.000000e+00</td>\n",
       "      <td>1.000000e+00</td>\n",
       "      <td>-6.315233e+01</td>\n",
       "      <td>-2.138595e+01</td>\n",
       "    </tr>\n",
       "    <tr>\n",
       "      <th>25%</th>\n",
       "      <td>4.166666e+04</td>\n",
       "      <td>0.000000e+00</td>\n",
       "      <td>1.000000e+00</td>\n",
       "      <td>6.400000e+01</td>\n",
       "      <td>2.000000e+00</td>\n",
       "      <td>2.410000e+02</td>\n",
       "      <td>-1.341860e-01</td>\n",
       "      <td>4.491790e+01</td>\n",
       "    </tr>\n",
       "    <tr>\n",
       "      <th>50%</th>\n",
       "      <td>1.200000e+05</td>\n",
       "      <td>0.000000e+00</td>\n",
       "      <td>1.000000e+00</td>\n",
       "      <td>8.800000e+01</td>\n",
       "      <td>4.000000e+00</td>\n",
       "      <td>5.170000e+02</td>\n",
       "      <td>2.266328e+00</td>\n",
       "      <td>4.714500e+01</td>\n",
       "    </tr>\n",
       "    <tr>\n",
       "      <th>75%</th>\n",
       "      <td>2.190000e+05</td>\n",
       "      <td>0.000000e+00</td>\n",
       "      <td>2.000000e+00</td>\n",
       "      <td>1.150000e+02</td>\n",
       "      <td>5.000000e+00</td>\n",
       "      <td>1.031000e+03</td>\n",
       "      <td>4.040598e+00</td>\n",
       "      <td>4.871642e+01</td>\n",
       "    </tr>\n",
       "    <tr>\n",
       "      <th>max</th>\n",
       "      <td>1.750000e+09</td>\n",
       "      <td>3.300000e+02</td>\n",
       "      <td>4.000000e+00</td>\n",
       "      <td>2.778140e+05</td>\n",
       "      <td>1.120000e+02</td>\n",
       "      <td>3.058525e+06</td>\n",
       "      <td>5.582859e+01</td>\n",
       "      <td>5.108207e+01</td>\n",
       "    </tr>\n",
       "  </tbody>\n",
       "</table>\n",
       "</div>"
      ],
      "text/plain": [
       "       valeur_fonciere   nombre_lots  code_type_local  surface_reelle_bati  \\\n",
       "count     2.224142e+06  2.224142e+06     1.348953e+06         1.223008e+06   \n",
       "mean      2.052168e+05  2.253525e-01     1.535372e+00         1.196465e+02   \n",
       "std       2.292359e+06  7.998093e-01     8.871148e-01         5.772342e+02   \n",
       "min       1.000000e-02  0.000000e+00     1.000000e+00         1.000000e+00   \n",
       "25%       4.166666e+04  0.000000e+00     1.000000e+00         6.400000e+01   \n",
       "50%       1.200000e+05  0.000000e+00     1.000000e+00         8.800000e+01   \n",
       "75%       2.190000e+05  0.000000e+00     2.000000e+00         1.150000e+02   \n",
       "max       1.750000e+09  3.300000e+02     4.000000e+00         2.778140e+05   \n",
       "\n",
       "       nombre_pieces_principales  surface_terrain     longitude      latitude  \n",
       "count               1.346962e+06     1.875892e+06  2.171583e+06  2.171583e+06  \n",
       "mean                3.315520e+00     1.838143e+03  1.952514e+00  4.639342e+01  \n",
       "std                 1.988447e+00     8.571996e+03  6.085189e+00  5.414858e+00  \n",
       "min                 0.000000e+00     1.000000e+00 -6.315233e+01 -2.138595e+01  \n",
       "25%                 2.000000e+00     2.410000e+02 -1.341860e-01  4.491790e+01  \n",
       "50%                 4.000000e+00     5.170000e+02  2.266328e+00  4.714500e+01  \n",
       "75%                 5.000000e+00     1.031000e+03  4.040598e+00  4.871642e+01  \n",
       "max                 1.120000e+02     3.058525e+06  5.582859e+01  5.108207e+01  "
      ]
     },
     "execution_count": 4,
     "metadata": {},
     "output_type": "execute_result"
    }
   ],
   "source": [
    "dvf.describe()"
   ]
  },
  {
   "cell_type": "markdown",
   "metadata": {},
   "source": [
    "### Remarques :\n",
    "Le describe permet de voir les écarts au sein des des colonnes numériques.  \n",
    "On remarque ainsi une grande disparité des prix dans la colonne foncière, de 0.01€ à 1 750 000 000€.\n",
    "Il conviendra surement de faire des fourchettes de prix ou de réduire les données."
   ]
  },
  {
   "cell_type": "code",
   "execution_count": 5,
   "metadata": {},
   "outputs": [
    {
     "data": {
      "text/plain": [
       "id_mutation                        0\n",
       "date_mutation                      0\n",
       "nature_mutation                    0\n",
       "valeur_fonciere                    0\n",
       "adresse_nom_voie                3087\n",
       "nom_commune                        0\n",
       "code_departement                   0\n",
       "id_parcelle                        0\n",
       "nombre_lots                        0\n",
       "code_type_local               875189\n",
       "type_local                    875189\n",
       "surface_reelle_bati          1001134\n",
       "nombre_pieces_principales     877180\n",
       "surface_terrain               348250\n",
       "longitude                      52559\n",
       "latitude                       52559\n",
       "id_bien                            0\n",
       "dtype: int64"
      ]
     },
     "execution_count": 5,
     "metadata": {},
     "output_type": "execute_result"
    }
   ],
   "source": [
    "dvf.isnull().sum()"
   ]
  },
  {
   "cell_type": "code",
   "execution_count": 6,
   "metadata": {},
   "outputs": [
    {
     "data": {
      "text/plain": [
       "<matplotlib.axes._subplots.AxesSubplot at 0x21b2ab94cc0>"
      ]
     },
     "execution_count": 6,
     "metadata": {},
     "output_type": "execute_result"
    },
    {
     "data": {
      "image/png": "[encoded data removed]",
      "text/plain": [
       "<Figure size 1008x576 with 2 Axes>"
      ]
     },
     "metadata": {
      "needs_background": "light"
     },
     "output_type": "display_data"
    }
   ],
   "source": [
    "plt.figure(figsize=(14,8))\n",
    "sns.heatmap(dvf.isnull())"
   ]
  },
  {
   "cell_type": "markdown",
   "metadata": {},
   "source": [
    "### Remarques :\n",
    "Cette requête nous informe sur le nombre de Null dans les colonnes, c'est-à-dire le nombre de lignes où les données ne sont pas renseignées.  \n",
    "On remarque alors qu'il en reste beaucoup, un traitement s'avère nécessaire pour éviter le bruit dans les données se qui conduira à des résultats faussés."
   ]
  },
  {
   "cell_type": "markdown",
   "metadata": {},
   "source": [
    "### En conlusion : \n",
    "Il faut:\n",
    "  * traiter les NaN : afin d'en faire une catégorie à part ===> comment / cb de cat \n",
    "  * voir pour ne garder que les colonnes qui sont corrélées à la target : `valeur_fonciere`\n",
    "  * supprimer les données `nature_mutation` qui ne sont pas égales à des Ventes pour coller au besoin du client\n",
    "  * créer une fourchette de prix"
   ]
  },
  {
   "cell_type": "markdown",
   "metadata": {},
   "source": [
    "#### Récupération des données de vente seulement "
   ]
  },
  {
   "cell_type": "code",
   "execution_count": 7,
   "metadata": {},
   "outputs": [
    {
     "data": {
      "text/plain": [
       "array(['Vente', 'Echange', 'Vente terrain à bâtir',\n",
       "       \"Vente en l'état futur d'achèvement\", 'Adjudication',\n",
       "       'Expropriation'], dtype=object)"
      ]
     },
     "execution_count": 7,
     "metadata": {},
     "output_type": "execute_result"
    }
   ],
   "source": [
    "dvf['nature_mutation'].unique()"
   ]
  },
  {
   "cell_type": "code",
   "execution_count": 8,
   "metadata": {},
   "outputs": [],
   "source": [
    "dvf2 = dvf.loc[dvf['nature_mutation'].isin(['Vente','Vente terrain à bâtir',\"Vente en l'état futur d'achèvement\"])]"
   ]
  },
  {
   "cell_type": "code",
   "execution_count": 9,
   "metadata": {},
   "outputs": [
    {
     "data": {
      "text/plain": [
       "array(['Vente', 'Vente terrain à bâtir',\n",
       "       \"Vente en l'état futur d'achèvement\"], dtype=object)"
      ]
     },
     "execution_count": 9,
     "metadata": {},
     "output_type": "execute_result"
    }
   ],
   "source": [
    "dvf2['nature_mutation'].unique()"
   ]
  },
  {
   "cell_type": "markdown",
   "metadata": {},
   "source": [
    "### Remarque:\n",
    "Le nouveau dataframe n'a maintenant que les ventes de biens ce qui permet de coller au mieux à la demande du client qui est de \"faire une estimation des biens de vente\". "
   ]
  },
  {
   "cell_type": "markdown",
   "metadata": {},
   "source": [
    "#### Traitement des NaN de la colonne `type_local`"
   ]
  },
  {
   "cell_type": "code",
   "execution_count": 10,
   "metadata": {
    "scrolled": true
   },
   "outputs": [],
   "source": [
    "dvf2['type_local'] = dvf2['type_local'].fillna('None')"
   ]
  },
  {
   "cell_type": "code",
   "execution_count": 11,
   "metadata": {},
   "outputs": [
    {
     "data": {
      "text/plain": [
       "<seaborn.axisgrid.FacetGrid at 0x21b2af94940>"
      ]
     },
     "execution_count": 11,
     "metadata": {},
     "output_type": "execute_result"
    },
    {
     "data": {
      "image/png": "[encoded data removed]",
      "text/plain": [
       "<Figure size 720x720 with 1 Axes>"
      ]
     },
     "metadata": {
      "needs_background": "light"
     },
     "output_type": "display_data"
    }
   ],
   "source": [
    "sns.catplot(x=\"type_local\",y=\"valeur_fonciere\",data=dvf2, kind='violin', height=10)"
   ]
  },
  {
   "cell_type": "code",
   "execution_count": 12,
   "metadata": {},
   "outputs": [
    {
     "data": {
      "text/plain": [
       "<seaborn.axisgrid.FacetGrid at 0x21b2af81ba8>"
      ]
     },
     "execution_count": 12,
     "metadata": {},
     "output_type": "execute_result"
    },
    {
     "data": {
      "image/png": "[encoded data removed]",
      "text/plain": [
       "<Figure size 720x720 with 1 Axes>"
      ]
     },
     "metadata": {
      "needs_background": "light"
     },
     "output_type": "display_data"
    }
   ],
   "source": [
    "sns.catplot(x=\"type_local\",y=\"valeur_fonciere\",data=dvf2[dvf2['valeur_fonciere']<0.5], kind='violin', height=10)"
   ]
  },
  {
   "cell_type": "markdown",
   "metadata": {},
   "source": [
    "### Remarques\n",
    "\n",
    "Dans la colonne `type_local` 'None' se rapprochent plus de 'Local industriel. commercial ou assimilé' on peut donc supposer que les 'None' en sont.\n",
    "\n",
    "On peut également se poser la question des valeurs extrêmes de `valeur_fonciere`"
   ]
  },
  {
   "cell_type": "code",
   "execution_count": 13,
   "metadata": {},
   "outputs": [],
   "source": [
    "dvf2['type_local'] = dvf2['type_local'].replace('None', 'Local industriel. commercial ou assimilé')"
   ]
  },
  {
   "cell_type": "code",
   "execution_count": 14,
   "metadata": {},
   "outputs": [
    {
     "data": {
      "text/plain": [
       "array(['Local industriel. commercial ou assimilé', 'Appartement',\n",
       "       'Maison', 'Dépendance'], dtype=object)"
      ]
     },
     "execution_count": 14,
     "metadata": {},
     "output_type": "execute_result"
    }
   ],
   "source": [
    "dvf2['type_local'].unique()"
   ]
  },
  {
   "cell_type": "code",
   "execution_count": 15,
   "metadata": {},
   "outputs": [],
   "source": [
    "dvf2['code_type_local'] = dvf2['code_type_local'].fillna(4)"
   ]
  },
  {
   "cell_type": "code",
   "execution_count": 16,
   "metadata": {},
   "outputs": [
    {
     "data": {
      "text/plain": [
       "array([4., 2., 1., 3.])"
      ]
     },
     "execution_count": 16,
     "metadata": {},
     "output_type": "execute_result"
    }
   ],
   "source": [
    "dvf2['code_type_local'].unique()"
   ]
  },
  {
   "cell_type": "code",
   "execution_count": 17,
   "metadata": {},
   "outputs": [],
   "source": [
    "dvf2['nombre_pieces_principales'] = dvf2['nombre_pieces_principales'].fillna(0)"
   ]
  },
  {
   "cell_type": "markdown",
   "metadata": {},
   "source": [
    "### Etude de la corrélation\n",
    "* si le coefficient est proche de 1 c’est qu’il y a une forte corrélation positive\n",
    "* si le coefficient est proche de -1 c’est qu’il y a une forte corrélation négative\n",
    "* si le coefficient est proche de 0 en valeur absolue c’est qu’il y a une faible corrélation."
   ]
  },
  {
   "cell_type": "code",
   "execution_count": 18,
   "metadata": {},
   "outputs": [
    {
     "data": {
      "text/plain": [
       "<matplotlib.axes._subplots.AxesSubplot at 0x21b2ad16710>"
      ]
     },
     "execution_count": 18,
     "metadata": {},
     "output_type": "execute_result"
    },
    {
     "data": {
      "image/png": "[encoded data removed]",
      "text/plain": [
       "<Figure size 1008x576 with 2 Axes>"
      ]
     },
     "metadata": {
      "needs_background": "light"
     },
     "output_type": "display_data"
    }
   ],
   "source": [
    "dvf_corr = dvf2.corr().round(2)\n",
    "plt.figure(figsize=(14,8))\n",
    "sns.heatmap(data=dvf_corr, annot=True)"
   ]
  },
  {
   "cell_type": "markdown",
   "metadata": {},
   "source": [
    "### Remarques : \n",
    "\n",
    "* Correlation : La matrice montre une forte corrélation négative entre `nombre_pieces_principales` et `code_type_local`\n",
    "* Feature selection :\n",
    "    * `valeur_fonciere` qui est la target\n",
    "    * `code_departement` les départements seront regroupés en régions\n",
    "    * `nature_mutation`\n",
    "    * `type_local`\n",
    "    * `nombre_pieces_principales`\n"
   ]
  },
  {
   "cell_type": "markdown",
   "metadata": {},
   "source": [
    "### Mise en place d'un DF final pour les algorithmes\n"
   ]
  },
  {
   "cell_type": "markdown",
   "metadata": {},
   "source": [
    "### Création de la colonne `regions`"
   ]
  },
  {
   "cell_type": "code",
   "execution_count": 19,
   "metadata": {},
   "outputs": [],
   "source": [
    "listeNordEst=['02','08','10', '51', '52', '54', '55', '57','59', '60', '62', '67', '68', '70', '80', '88', '90']\n",
    "listeNordOuest=['14', '22', '27', '28', '29', '35', '36', '37', '41', '44', '45', '49', '50', '53', '56', '61', '72', '76', '79', '85', '86']\n",
    "listeSudEst=['01', '03', '04', '05', '06', '13', '18', '21', '25', '26', '38', '39', '42', '58', '69', '71', '73', '74', '83', '84', '89']\n",
    "listeSudOuest=['2A', '2B', '07', '09', '11', '12', '15', '16', '17', '19', '23', '24', '30', '31', '32', '33', '34', '40', '43', '46', '47', '48', '63', '64', '65', '66', '81', '82', '87']\n",
    "listeRegionParis=['75', '77', '78', '91', '92', '93', '94', '95']\n",
    "listeDOMTOM=['971', '972', '973', '974']"
   ]
  },
  {
   "cell_type": "code",
   "execution_count": 20,
   "metadata": {},
   "outputs": [],
   "source": [
    "dvf2['regions']=np.where(dvf2['code_departement'].isin(listeNordEst), 'NordEst', dvf2['code_departement'])"
   ]
  },
  {
   "cell_type": "code",
   "execution_count": 21,
   "metadata": {},
   "outputs": [],
   "source": [
    "dvf2['regions']=np.where(dvf2['regions'].isin(listeNordOuest), 'NordOuest', dvf2['regions'])"
   ]
  },
  {
   "cell_type": "code",
   "execution_count": 22,
   "metadata": {},
   "outputs": [],
   "source": [
    "dvf2['regions']=np.where(dvf2['regions'].isin(listeSudEst), 'SudEst', dvf2['regions'])"
   ]
  },
  {
   "cell_type": "code",
   "execution_count": 23,
   "metadata": {},
   "outputs": [],
   "source": [
    "dvf2['regions']=np.where(dvf2['regions'].isin(listeSudOuest), 'SudOuest', dvf2['regions'])"
   ]
  },
  {
   "cell_type": "code",
   "execution_count": 24,
   "metadata": {},
   "outputs": [],
   "source": [
    "dvf2['regions']=np.where(dvf2['regions'].isin(listeRegionParis), 'RegionParis', dvf2['regions'])"
   ]
  },
  {
   "cell_type": "code",
   "execution_count": 25,
   "metadata": {},
   "outputs": [],
   "source": [
    "dvf2['regions']=np.where(dvf2['regions'].isin(listeDOMTOM), 'DOMTOM', dvf2['regions'])"
   ]
  },
  {
   "cell_type": "code",
   "execution_count": 26,
   "metadata": {},
   "outputs": [
    {
     "data": {
      "text/plain": [
       "array(['SudEst', 'NordEst', 'SudOuest', 'NordOuest', 'RegionParis',\n",
       "       'DOMTOM'], dtype=object)"
      ]
     },
     "execution_count": 26,
     "metadata": {},
     "output_type": "execute_result"
    }
   ],
   "source": [
    "dvf2.regions.unique()"
   ]
  },
  {
   "cell_type": "code",
   "execution_count": 27,
   "metadata": {
    "scrolled": true
   },
   "outputs": [
    {
     "data": {
      "text/html": [
       "<div>\n",
       "<style scoped>\n",
       "    .dataframe tbody tr th:only-of-type {\n",
       "        vertical-align: middle;\n",
       "    }\n",
       "\n",
       "    .dataframe tbody tr th {\n",
       "        vertical-align: top;\n",
       "    }\n",
       "\n",
       "    .dataframe thead th {\n",
       "        text-align: right;\n",
       "    }\n",
       "</style>\n",
       "<table border=\"1\" class=\"dataframe\">\n",
       "  <thead>\n",
       "    <tr style=\"text-align: right;\">\n",
       "      <th></th>\n",
       "      <th>valeur_fonciere</th>\n",
       "      <th>regions</th>\n",
       "      <th>type_local</th>\n",
       "      <th>nature_mutation</th>\n",
       "      <th>nombre_pieces_principales</th>\n",
       "    </tr>\n",
       "  </thead>\n",
       "  <tbody>\n",
       "    <tr>\n",
       "      <th>0</th>\n",
       "      <td>115000.0</td>\n",
       "      <td>SudEst</td>\n",
       "      <td>Local industriel. commercial ou assimilé</td>\n",
       "      <td>Vente</td>\n",
       "      <td>0.0</td>\n",
       "    </tr>\n",
       "    <tr>\n",
       "      <th>1</th>\n",
       "      <td>1.0</td>\n",
       "      <td>SudEst</td>\n",
       "      <td>Local industriel. commercial ou assimilé</td>\n",
       "      <td>Vente</td>\n",
       "      <td>0.0</td>\n",
       "    </tr>\n",
       "    <tr>\n",
       "      <th>2</th>\n",
       "      <td>1.0</td>\n",
       "      <td>SudEst</td>\n",
       "      <td>Local industriel. commercial ou assimilé</td>\n",
       "      <td>Vente</td>\n",
       "      <td>0.0</td>\n",
       "    </tr>\n",
       "    <tr>\n",
       "      <th>3</th>\n",
       "      <td>258000.0</td>\n",
       "      <td>SudEst</td>\n",
       "      <td>Appartement</td>\n",
       "      <td>Vente</td>\n",
       "      <td>5.0</td>\n",
       "    </tr>\n",
       "    <tr>\n",
       "      <th>4</th>\n",
       "      <td>175050.0</td>\n",
       "      <td>SudEst</td>\n",
       "      <td>Maison</td>\n",
       "      <td>Vente</td>\n",
       "      <td>5.0</td>\n",
       "    </tr>\n",
       "    <tr>\n",
       "      <th>...</th>\n",
       "      <td>...</td>\n",
       "      <td>...</td>\n",
       "      <td>...</td>\n",
       "      <td>...</td>\n",
       "      <td>...</td>\n",
       "    </tr>\n",
       "    <tr>\n",
       "      <th>2192869</th>\n",
       "      <td>570000.0</td>\n",
       "      <td>RegionParis</td>\n",
       "      <td>Appartement</td>\n",
       "      <td>Vente</td>\n",
       "      <td>2.0</td>\n",
       "    </tr>\n",
       "    <tr>\n",
       "      <th>2192870</th>\n",
       "      <td>7698200.0</td>\n",
       "      <td>RegionParis</td>\n",
       "      <td>Appartement</td>\n",
       "      <td>Vente</td>\n",
       "      <td>8.0</td>\n",
       "    </tr>\n",
       "    <tr>\n",
       "      <th>2192871</th>\n",
       "      <td>1007640.0</td>\n",
       "      <td>RegionParis</td>\n",
       "      <td>Appartement</td>\n",
       "      <td>Vente</td>\n",
       "      <td>3.0</td>\n",
       "    </tr>\n",
       "    <tr>\n",
       "      <th>2192872</th>\n",
       "      <td>626572.0</td>\n",
       "      <td>RegionParis</td>\n",
       "      <td>Appartement</td>\n",
       "      <td>Vente</td>\n",
       "      <td>3.0</td>\n",
       "    </tr>\n",
       "    <tr>\n",
       "      <th>2192873</th>\n",
       "      <td>46000000.0</td>\n",
       "      <td>RegionParis</td>\n",
       "      <td>Local industriel. commercial ou assimilé</td>\n",
       "      <td>Vente</td>\n",
       "      <td>0.0</td>\n",
       "    </tr>\n",
       "  </tbody>\n",
       "</table>\n",
       "<p>2192874 rows × 5 columns</p>\n",
       "</div>"
      ],
      "text/plain": [
       "         valeur_fonciere      regions  \\\n",
       "0               115000.0       SudEst   \n",
       "1                    1.0       SudEst   \n",
       "2                    1.0       SudEst   \n",
       "3               258000.0       SudEst   \n",
       "4               175050.0       SudEst   \n",
       "...                  ...          ...   \n",
       "2192869         570000.0  RegionParis   \n",
       "2192870        7698200.0  RegionParis   \n",
       "2192871        1007640.0  RegionParis   \n",
       "2192872         626572.0  RegionParis   \n",
       "2192873       46000000.0  RegionParis   \n",
       "\n",
       "                                       type_local nature_mutation  \\\n",
       "0        Local industriel. commercial ou assimilé           Vente   \n",
       "1        Local industriel. commercial ou assimilé           Vente   \n",
       "2        Local industriel. commercial ou assimilé           Vente   \n",
       "3                                     Appartement           Vente   \n",
       "4                                          Maison           Vente   \n",
       "...                                           ...             ...   \n",
       "2192869                               Appartement           Vente   \n",
       "2192870                               Appartement           Vente   \n",
       "2192871                               Appartement           Vente   \n",
       "2192872                               Appartement           Vente   \n",
       "2192873  Local industriel. commercial ou assimilé           Vente   \n",
       "\n",
       "         nombre_pieces_principales  \n",
       "0                              0.0  \n",
       "1                              0.0  \n",
       "2                              0.0  \n",
       "3                              5.0  \n",
       "4                              5.0  \n",
       "...                            ...  \n",
       "2192869                        2.0  \n",
       "2192870                        8.0  \n",
       "2192871                        3.0  \n",
       "2192872                        3.0  \n",
       "2192873                        0.0  \n",
       "\n",
       "[2192874 rows x 5 columns]"
      ]
     },
     "execution_count": 27,
     "metadata": {},
     "output_type": "execute_result"
    }
   ],
   "source": [
    "dvf_prep=dvf2[['valeur_fonciere', 'regions', 'type_local', 'nature_mutation','nombre_pieces_principales']].reset_index(drop=True)\n",
    "dvf_prep"
   ]
  },
  {
   "cell_type": "code",
   "execution_count": 28,
   "metadata": {},
   "outputs": [],
   "source": [
    "dvf_prep.to_csv('dvf2.csv', index=False) "
   ]
  },
  {
   "cell_type": "markdown",
   "metadata": {},
   "source": [
    "#### Gestion des Outliers de `valeur_fonciere`"
   ]
  },
  {
   "cell_type": "code",
   "execution_count": 29,
   "metadata": {},
   "outputs": [
    {
     "data": {
      "text/plain": [
       "<seaborn.axisgrid.FacetGrid at 0x21b2b7c2ac8>"
      ]
     },
     "execution_count": 29,
     "metadata": {},
     "output_type": "execute_result"
    },
    {
     "data": {
      "image/png": "[encoded data removed]",
      "text/plain": [
       "<Figure size 504x720 with 1 Axes>"
      ]
     },
     "metadata": {
      "needs_background": "light"
     },
     "output_type": "display_data"
    }
   ],
   "source": [
    "sns.catplot( y=\"valeur_fonciere\",\n",
    "                data=dvf_prep, kind=\"violin\",\n",
    "                height=10, aspect=.7)"
   ]
  },
  {
   "cell_type": "code",
   "execution_count": 30,
   "metadata": {},
   "outputs": [
    {
     "data": {
      "text/plain": [
       "count    2.192874e+06\n",
       "mean     2.072833e+05\n",
       "std      2.307654e+06\n",
       "min      1.000000e-02\n",
       "25%      4.500000e+04\n",
       "50%      1.216505e+05\n",
       "75%      2.200000e+05\n",
       "max      1.750000e+09\n",
       "Name: valeur_fonciere, dtype: float64"
      ]
     },
     "execution_count": 30,
     "metadata": {},
     "output_type": "execute_result"
    }
   ],
   "source": [
    "dvf_prep.valeur_fonciere.describe()"
   ]
  },
  {
   "cell_type": "markdown",
   "metadata": {},
   "source": [
    "### Remarques :\n",
    "Que ça soit par le graphique ou par la méthode \".describe()\" il ya une mise ne évidence claire d'une grande variation dans le prix de vente.  \n",
    "On peut donc choisir de ne prendre les valeurs qu'entre 45 000€ et 220 000€ ce qui correspond aux valeurs comprises entre le 1er et le 3ème quartile.  \n",
    "Les autres seront considérées comme des outliers."
   ]
  },
  {
   "cell_type": "code",
   "execution_count": 31,
   "metadata": {},
   "outputs": [
    {
     "name": "stdout",
     "output_type": "stream",
     "text": [
      "<class 'pandas.core.frame.DataFrame'>\n",
      "Int64Index: 1103600 entries, 0 to 2192861\n",
      "Data columns (total 5 columns):\n",
      " #   Column                     Non-Null Count    Dtype  \n",
      "---  ------                     --------------    -----  \n",
      " 0   valeur_fonciere            1103600 non-null  float64\n",
      " 1   regions                    1103600 non-null  object \n",
      " 2   type_local                 1103600 non-null  object \n",
      " 3   nature_mutation            1103600 non-null  object \n",
      " 4   nombre_pieces_principales  1103600 non-null  float64\n",
      "dtypes: float64(2), object(3)\n",
      "memory usage: 50.5+ MB\n"
     ]
    }
   ],
   "source": [
    "dvf_prep2 = dvf_prep.loc[dvf_prep['valeur_fonciere'].between(45000, 220000)]\n",
    "dvf_prep2.info()"
   ]
  },
  {
   "cell_type": "code",
   "execution_count": 32,
   "metadata": {},
   "outputs": [],
   "source": [
    "dvf_prep2.to_csv('dvf3.csv', index=False) "
   ]
  }
 ],
 "metadata": {
  "kernelspec": {
   "display_name": "Python 3",
   "language": "python",
   "name": "python3"
  },
  "language_info": {
   "codemirror_mode": {
    "name": "ipython",
    "version": 3
   },
   "file_extension": ".py",
   "mimetype": "text/x-python",
   "name": "python",
   "nbconvert_exporter": "python",
   "pygments_lexer": "ipython3",
   "version": "3.6.7"
  }
 },
 "nbformat": 4,
 "nbformat_minor": 4
}
